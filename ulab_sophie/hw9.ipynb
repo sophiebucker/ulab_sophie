{
 "cells": [
  {
   "cell_type": "markdown",
   "id": "21a1f0d2-d75c-4443-b816-1d1db3760454",
   "metadata": {},
   "source": [
    "# HW 9 - Introduction to Plotting\n",
    "ULAB - Physics and Astronomy Division \\\n",
    "Due **Wednesday, November 13th, 2024 at 11:59pm** on Gradescope\n",
    "\n",
    "--------------------------------------------------------------\n",
    "## Follow Good Coding Practices\n",
    "I will not include this information in the following questions, but if your functions/module/code does not have the following structure, you will get points taken off:\n",
    "- **Detailed** function and variable names.\n",
    "- A **comment** describing what the function is doing and what the inputs/outputs are (a comment randomly inside the function is not enough anymore).\n",
    "- A least one comment somewhere in the function describing an **important** line (this is subjective towards the programmer, but a line that someone reading your code might be confused about).\n",
    "- Different steps on different lines.\n",
    "- A `return` statement that only contains variables (so no print strings).\n",
    "- Import statements at the **top** of modules\n",
    "- Constants defined at the **top** of modules"
   ]
  },
  {
   "cell_type": "markdown",
   "id": "881379c0-670c-4ec2-99aa-f95c7c00dc98",
   "metadata": {},
   "source": [
    "# 1 Introduction to Plotting\n",
    "In this problem, we are going to break down the structure of `matplotlib.pyplot`."
   ]
  },
  {
   "cell_type": "code",
   "execution_count": 2,
   "id": "f6bf9ea5-d11a-4468-bb30-098e93144a45",
   "metadata": {},
   "outputs": [],
   "source": [
    "# IMPORT NECESSARY PACKAGES\n",
    "import matplotlib.pyplot as plt\n",
    "import numpy as np "
   ]
  },
  {
   "cell_type": "markdown",
   "id": "53431bf8-46e3-4a0f-b63e-0a1df9b10c8c",
   "metadata": {},
   "source": [
    "In a comment, write the code that would create a **new figure** where a plot or plots could be drawn. Make the `figsize` 5x5. "
   ]
  },
  {
   "cell_type": "code",
   "execution_count": 41,
   "id": "361511b2-e9c1-4aba-aaf0-fe44ec2c11fd",
   "metadata": {},
   "outputs": [],
   "source": [
    "# Your comment here\n",
    "\n",
    "#importing packages\n",
    "import numpy as np\n",
    "import matplotlib.pyplot as plt\n",
    "\n",
    "#making my new figure which could have plots drawn with 5x5 axes\n",
    "#plt.figure(figsize=(5,5))\n",
    "#plt.plot()"
   ]
  },
  {
   "cell_type": "markdown",
   "id": "f3a3bbf9-a9fd-4a35-a5dd-7b6d2fb7c3bf",
   "metadata": {},
   "source": [
    "In a comment, write the code that would make a variable called `x` such that it would contain the values [1, 2, 3, 4, 5] then write the code that would make a variable called `y` such that it would contain the values [2, 4, 6, 8, 10]."
   ]
  },
  {
   "cell_type": "code",
   "execution_count": 39,
   "id": "fdfacd10-6ced-4443-a39c-ec53ef667b9b",
   "metadata": {},
   "outputs": [],
   "source": [
    "\n",
    "#importing packages\n",
    "import numpy as np\n",
    "import matplotlib.pyplot as plt\n",
    "\n",
    "#making my new figure which could have plots drawn with 5x5 axes\n",
    "#plt.figure(figsize=(5,5))\n",
    "#plt.plot()\n",
    "\n",
    "#making variables x and y\n",
    "#x = [1, 2, 3, 4, 5]\n",
    "#y = [2, 4, 6, 8, 10]\n"
   ]
  },
  {
   "cell_type": "markdown",
   "id": "524d1518-3fbb-488b-a403-551eabf04de3",
   "metadata": {},
   "source": [
    "In a comment, write the code that would plot the data as a line **AND** write the code that would plot the data as points. Each of these should be separate lines. \n",
    "\n",
    "How would you change the color, linestyle/marker of your data? Choose a **color, linestyle** and **marker**, include this in the lines below."
   ]
  },
  {
   "cell_type": "code",
   "execution_count": 35,
   "id": "4deb3a33-b735-42b9-9993-84e8ca140a52",
   "metadata": {},
   "outputs": [],
   "source": [
    "#importing packages\n",
    "import numpy as np\n",
    "import matplotlib.pyplot as plt\n",
    "\n",
    "#making my new figure which could have plots drawn with 5x5 axes\n",
    "#plt.figure(figsize=(5,5))\n",
    "#plt.plot()\n",
    "\n",
    "#making variables x and y\n",
    "#x = [1, 2, 3, 4, 5]\n",
    "#y = [2, 4, 6, 8, 10]\n",
    "\n",
    "#plotting the data as a line and writing the code\n",
    "#plt.plot(x, y, label=\"f(x) = 2x\", linestyle='-', color=\"green\")\n"
   ]
  },
  {
   "cell_type": "markdown",
   "id": "8e2f0713-dd67-43de-bec4-a36eac14df89",
   "metadata": {},
   "source": [
    "In a comment, write the code that would add a **title** to your plot. How would you adjust the fontsize? "
   ]
  },
  {
   "cell_type": "code",
   "execution_count": 37,
   "id": "f5a6c023-309b-46cd-a10a-959d9f3503c9",
   "metadata": {},
   "outputs": [],
   "source": [
    "# Your comment here\n",
    "\n",
    "#importing packages\n",
    "import numpy as np\n",
    "import matplotlib.pyplot as plt\n",
    "\n",
    "#making my new figure which could have plots drawn with 5x5 axes\n",
    "#plt.figure(figsize=(5,5))\n",
    "#plt.plot()\n",
    "\n",
    "#making variables x and y\n",
    "#x = [1, 2, 3, 4, 5]\n",
    "#y = [2, 4, 6, 8, 10]\n",
    "\n",
    "#plotting the data as a line and writing the code\n",
    "#plt.plot(x, y, label=\"f(x) = 2x\", linestyle='-', color=\"green\")\n",
    "#plt.title(\"Y = 2X\", fontsize=30)"
   ]
  },
  {
   "cell_type": "markdown",
   "id": "9308ead3-19b8-4577-bcf2-99d3f308c497",
   "metadata": {},
   "source": [
    "In a comment, write the code that would add a **label for the x-axis** and a **label for the y-axis**. How would you adjust the fontsize? Adjust the fontsize."
   ]
  },
  {
   "cell_type": "code",
   "execution_count": 33,
   "id": "a58632a0-cbe5-4488-a259-9c11cf758699",
   "metadata": {},
   "outputs": [],
   "source": [
    "#importing packages\n",
    "import numpy as np\n",
    "import matplotlib.pyplot as plt\n",
    "\n",
    "#making my new figure which could have plots drawn with 5x5 axes\n",
    "#plt.figure(figsize=(5,5))\n",
    "#plt.plot()\n",
    "\n",
    "#making variables x and y\n",
    "#x = [1, 2, 3, 4, 5]\n",
    "#y = [2, 4, 6, 8, 10]\n",
    "\n",
    "#plotting the data as a line and writing the code\n",
    "#plt.plot(x, y, label=\"f(x) = 2x\", linestyle='-', color=\"green\") #plotted a line for each ordered pair, and made it green, and also labeled it as f(x) = 2x\n",
    "#plt.title(\"Y = 2X\", fontsize=30) #gave the graph a title\n",
    "#plt.xlabel(\"x-axis\", fontsize=20) #gave the x axis a label\n",
    "#plt.ylabel(\"y-axis\", fontsize=20) #gave the y axis a label"
   ]
  },
  {
   "cell_type": "markdown",
   "id": "1afd812c-3643-4e2d-a5a0-4d85aee65671",
   "metadata": {},
   "source": [
    "In a comment, write the code that would add a **legend** to your plot. This will be more than one line if your plotting cell above did not have a label. "
   ]
  },
  {
   "cell_type": "code",
   "execution_count": 31,
   "id": "23023c67-f940-40d9-a844-e93567715f5a",
   "metadata": {},
   "outputs": [],
   "source": [
    "#importing packages\n",
    "import numpy as np\n",
    "import matplotlib.pyplot as plt\n",
    "\n",
    "#making my new figure which could have plots drawn with 5x5 axes\n",
    "#plt.figure(figsize=(5,5))\n",
    "#plt.plot()\n",
    "\n",
    "#making variables x and y\n",
    "#x = [1, 2, 3, 4, 5]\n",
    "#y = [2, 4, 6, 8, 10]\n",
    "\n",
    "#plotting the data as a line and writing the code\n",
    "#plt.plot(x, y, label=\"f(x) = 2x\", linestyle='-', color=\"green\") #plotted a line for each ordered pair, and made it green, and also labeled it as f(x) = 2x\n",
    "#plt.title(\"Y = 2X\", fontsize=30) #gave the graph a title\n",
    "#plt.xlabel(\"x-axis\", fontsize=20) #gave the x axis a label\n",
    "#plt.ylabel(\"y-axis\", fontsize=20) #gave the y axis a label\n",
    "#plt.legend()"
   ]
  },
  {
   "cell_type": "markdown",
   "id": "f3bf5a2b-fd56-4bb0-b077-82ace5947977",
   "metadata": {},
   "source": [
    "In a comment, write the code that would **display** (show) the plot or figure you have just created. "
   ]
  },
  {
   "cell_type": "code",
   "execution_count": 11,
   "id": "045ce574-9d7a-4aa9-b54d-ba9d9211a134",
   "metadata": {},
   "outputs": [],
   "source": [
    "#importing packages\n",
    "import numpy as np\n",
    "import matplotlib.pyplot as plt\n",
    "\n",
    "#making my new figure which could have plots drawn with 5x5 axes\n",
    "#plt.figure(figsize=(5,5))\n",
    "#plt.plot()\n",
    "\n",
    "#making variables x and y\n",
    "#x = [1, 2, 3, 4, 5]\n",
    "#y = [2, 4, 6, 8, 10]\n",
    "\n",
    "#plotting the data as a line and writing the code\n",
    "#plt.plot(x, y, label=\"f(x) = 2x\", linestyle='-', color=\"green\") #plotted a line for each ordered pair, and made it green, and also labeled it as f(x) = 2x\n",
    "#plt.title(\"Y = 2X\", fontsize=30) #gave the graph a title\n",
    "#plt.xlabel(\"x-axis\", fontsize=20) #gave the x axis a label\n",
    "#plt.ylabel(\"y-axis\", fontsize=20) #gave the y axis a label\n",
    "#plt.legend()"
   ]
  },
  {
   "cell_type": "markdown",
   "id": "cf03ca6e-7df7-4613-a8fb-50a0a6b58de4",
   "metadata": {},
   "source": [
    "Put all of you code together into **one function** in the cell below and **plot** the data. Add an **additional** feature to your plot that was not described above (i.e. adding a grid, you can do that but then you also have to come up with your own addition.)"
   ]
  },
  {
   "cell_type": "code",
   "execution_count": 43,
   "id": "50d0529e-0aea-40cb-849a-d0c2f14b26c7",
   "metadata": {},
   "outputs": [
    {
     "data": {
      "image/png": "[encoded data removed]",
      "text/plain": [
       "<Figure size 500x500 with 1 Axes>"
      ]
     },
     "metadata": {},
     "output_type": "display_data"
    }
   ],
   "source": [
    "#importing packages\n",
    "import numpy as np\n",
    "import matplotlib.pyplot as plt\n",
    "\n",
    "#making my new figure which could have plots drawn with 5x5 axes\n",
    "plt.figure(figsize=(5,5))\n",
    "plt.plot()\n",
    "\n",
    "#making variables x and y\n",
    "x = [1, 2, 3, 4, 5]\n",
    "y = [2, 4, 6, 8, 10]\n",
    "\n",
    "#plotting the data as a line and writing the code\n",
    "plt.plot(x, y, label=\"f(x) = 2x\", linestyle='-', color=\"green\") #plotted a line for each ordered pair, and made it green, and also labeled it as f(x) = 2x\n",
    "plt.title(\"Y = 2X\", fontsize=30) #gave the graph a title\n",
    "plt.xlabel(\"x-axis\", fontsize=20) #gave the x axis a label\n",
    "plt.ylabel(\"y-axis\", fontsize=20) #gave the y axis a label\n",
    "plt.legend()\n",
    "plt.show()"
   ]
  },
  {
   "cell_type": "markdown",
   "id": "2d001f2e-0280-4b90-88b2-9cc88f655a4f",
   "metadata": {},
   "source": [
    "# 2 Plotting a Function\n",
    "Goal: Write a **function** that will plot $f(x) = x^2$ and $g(x) = \\sqrt{x}$ on the same plot and return the $f(x)$ and $g(x)$ values as separate lists. Your plot needs to have the following:\n",
    "- An appropriate figure size (`figsize=(10,8)` is recommended)\n",
    "- Labeled x and y axis\n",
    "- A title\n",
    "- Different colors and linestyles for each function\n",
    "- A legend\n",
    "- Your domain should be $x \\in [0, 10]$. *Hint: Use `np.linspace` to set a range of values for your functions.*\n",
    "\n",
    "Your function should return:\n",
    "- A list of $f(x)$ values\n",
    "- A list of $g(x)$ values."
   ]
  },
  {
   "cell_type": "code",
   "execution_count": null,
   "id": "6eaff34c-54cd-4d47-a59d-27006efad760",
   "metadata": {},
   "outputs": [],
   "source": [
    "# Your code here"
   ]
  },
  {
   "cell_type": "markdown",
   "id": "39ec48ed-878b-4007-9e34-0b04eafabfba",
   "metadata": {},
   "source": [
    "In a comment, describe how you move the legend from inside of your figure to upper-right region **outside** of your figure. Include the code as well."
   ]
  },
  {
   "cell_type": "code",
   "execution_count": null,
   "id": "d389468c-d15a-4490-8992-844601f18165",
   "metadata": {},
   "outputs": [],
   "source": [
    "# Your comment here"
   ]
  },
  {
   "cell_type": "markdown",
   "id": "3e1af682-7462-4d8f-9b8c-e12fcd3a847c",
   "metadata": {},
   "source": [
    "In a comment, describe how you could add a **vertical and horizontal line** to your plot. Include the code as well."
   ]
  },
  {
   "cell_type": "code",
   "execution_count": null,
   "id": "31ca8862-f4cc-40c0-b4e7-5509b7471b10",
   "metadata": {},
   "outputs": [],
   "source": [
    "# Your comment here"
   ]
  },
  {
   "cell_type": "markdown",
   "id": "93d4f30f-1c7b-424d-b876-8c7111f0e48b",
   "metadata": {},
   "source": [
    "In a comment, describe how you could **change** the domain of $x$. Include the code as well."
   ]
  },
  {
   "cell_type": "code",
   "execution_count": 14,
   "id": "50960511-4d1e-493b-b842-deaef9e5c282",
   "metadata": {},
   "outputs": [],
   "source": [
    "# Your comment here"
   ]
  },
  {
   "cell_type": "markdown",
   "id": "836fa6b7-5606-44fa-9213-694ef21c5e68",
   "metadata": {},
   "source": [
    "In a comment, describe how you would **change the limits** of the `x` and `y` axis. Include the code as well."
   ]
  },
  {
   "cell_type": "code",
   "execution_count": 19,
   "id": "61360a79-2792-4629-8c42-14d045992b49",
   "metadata": {},
   "outputs": [],
   "source": [
    "# Your comment here"
   ]
  },
  {
   "cell_type": "markdown",
   "id": "a65f744c-6fe7-437b-adab-17e45a3b894f",
   "metadata": {},
   "source": [
    "In a comment, describe how you could change your function to output the **sum** of the $f(x)$ and $g(x)$ values. Include the code as well."
   ]
  },
  {
   "cell_type": "code",
   "execution_count": null,
   "id": "10e630d5-8f48-4191-b84a-ac8f7205c617",
   "metadata": {},
   "outputs": [],
   "source": [
    "# Your comment here"
   ]
  },
  {
   "cell_type": "markdown",
   "id": "2f3a95b4-ae5a-40ce-8416-85681fd7c14f",
   "metadata": {},
   "source": [
    "Make a **new function** (that has the same foundation as your first function in this question) but includes **all** the changes you described in your comments. Don't forget to call the function and show its output. "
   ]
  },
  {
   "cell_type": "code",
   "execution_count": null,
   "id": "0930a07e-9e24-46b1-a806-4b00817c2ee2",
   "metadata": {},
   "outputs": [],
   "source": [
    "# Your code here"
   ]
  },
  {
   "cell_type": "markdown",
   "id": "47902eb7-702a-40a6-b72f-dbd66bb0e869",
   "metadata": {},
   "source": [
    "# 3 Introduction to Subplots\n",
    "Goal: Write a **module** (name it whatever you want, as long as it is professional) that contains two functions that do the following: \n",
    "\n",
    "Function 1: \n",
    "- Write a **function** that will plot two subplots side-by-side (horizontal).\n",
    "- The **left** subplot will be: $h(x) = \\cos(x)$.\n",
    "- The **right** subplot will be $k(x) = \\sin(x)$.\n",
    "- Include a title, axis labels and a domain of $x \\in [0, 2 \\pi]$ (this should NOT be hardcoded)\n",
    "\n",
    "Function 2:\n",
    "- Exactly the same as your first function, **EXCEPT** the subplots will be on top of each other (vertical). "
   ]
  },
  {
   "cell_type": "code",
   "execution_count": null,
   "id": "164186f3-4fbb-4c7f-b89f-02c1c65ec2ee",
   "metadata": {},
   "outputs": [],
   "source": [
    "# Import your module here"
   ]
  },
  {
   "cell_type": "markdown",
   "id": "c179a3af-e2a3-405e-9ffd-4c92d6715dfc",
   "metadata": {},
   "source": [
    "Call your **first** function in the cell below."
   ]
  },
  {
   "cell_type": "code",
   "execution_count": 15,
   "id": "46dbce01-b251-4f3c-bfed-95d14190841e",
   "metadata": {},
   "outputs": [],
   "source": [
    "# Your code here"
   ]
  },
  {
   "cell_type": "markdown",
   "id": "3b88d0a0-b11f-4e2e-8194-def64323adbd",
   "metadata": {},
   "source": [
    "Call your **second** function in the cell below."
   ]
  },
  {
   "cell_type": "code",
   "execution_count": null,
   "id": "4b00b2eb-1b71-4380-b03f-8da4f49b2ee4",
   "metadata": {},
   "outputs": [],
   "source": [
    "# Your code here"
   ]
  },
  {
   "cell_type": "markdown",
   "id": "409d5ba2-fbed-4578-8963-27df4e9cd5be",
   "metadata": {},
   "source": [
    "Change the domain of your function to be **twice** a large as the previous domain. Call both of your functions in the cell below with the new domain."
   ]
  },
  {
   "cell_type": "code",
   "execution_count": 16,
   "id": "5800f925-de11-44a5-9d4c-78342292bbc8",
   "metadata": {},
   "outputs": [],
   "source": [
    "# Your code here"
   ]
  },
  {
   "cell_type": "markdown",
   "id": "c4f76682-8e56-4335-8c07-e5a9b522b87b",
   "metadata": {},
   "source": [
    "# 4 Up to You!\n",
    "Now that you have been introduced to plotting data, functions and subplots, its up to you what to plot! Please refrain from importing other libraries besides `numpy` or `matplotlib`, if you do you need to explain WHY. Here are some ideas:\n",
    "- **Plot a 3D function**: https://matplotlib.org/stable/gallery/mplot3d/surface3d.html#sphx-glr-gallery-mplot3d-surface3d-py\n",
    "- **Plot a 3x3 grid of subplots**: https://matplotlib.org/stable/gallery/subplots_axes_and_figures/subplots_demo.html\n",
    "- **Plot an image with different colormaps:** https://matplotlib.org/stable/tutorials/images.html\n",
    "- **Something else that's cool!**\n",
    "\n",
    "Your idea must either come in the form of a **function** or a **module**, its up to you. **Bonus points** if its a function inside of a module."
   ]
  },
  {
   "cell_type": "code",
   "execution_count": 17,
   "id": "4993aaae-f4d9-4dce-817e-db81174162b1",
   "metadata": {},
   "outputs": [],
   "source": [
    "# Import your module and/or your code here"
   ]
  },
  {
   "cell_type": "markdown",
   "id": "fa146079-344e-43d0-ab4e-e7b3e3b31135",
   "metadata": {},
   "source": [
    "As a comment, put the link to the website that helped you with this problem (and what it taught you) or what you posted into ChatGPT for this question (and what it taught you)."
   ]
  },
  {
   "cell_type": "code",
   "execution_count": null,
   "id": "b0b893f6-ecdc-4d3a-ab48-519583272577",
   "metadata": {},
   "outputs": [],
   "source": [
    "# Your comment here"
   ]
  },
  {
   "cell_type": "markdown",
   "id": "bd0f750a-39a7-4b39-a746-faadd9a4c911",
   "metadata": {},
   "source": [
    "As a comment, with 2-3 sentences describe what your code is doing."
   ]
  },
  {
   "cell_type": "code",
   "execution_count": 18,
   "id": "7b51a425-b484-4c9d-9265-15586c48cdca",
   "metadata": {},
   "outputs": [],
   "source": [
    "# Your comment here"
   ]
  },
  {
   "cell_type": "markdown",
   "id": "0d3e251b-fba5-4cb4-b356-848eaff9057e",
   "metadata": {},
   "source": [
    "Your plots still need to include a title, axis labels and legends. If they don't you will get points marked off."
   ]
  },
  {
   "cell_type": "markdown",
   "id": "8cf33b19-9bca-484e-8129-d8a4896a1bfa",
   "metadata": {},
   "source": [
    "# 5 Proper Submission\n",
    "To recieve full credit for this assignment make sure you do the following:\n",
    "\n",
    "1) Copy this homework assignment from the `ulab_2024` repository into **YOUR** local `homework9` branch. \n",
    "   \n",
    "2) Follow the tasks. Make sure to run all the cells so that **ALL** outputs are visible. You will get points taken off if your ouputs are not shown!\n",
    "\n",
    "3) Add/commit/push this notebook to your remote `homework9` branch. Make sure to have NOTHING else in your branch (i.e. no previous homeworks or lecture notes).\n",
    "\n",
    "4) Do the following:\n",
    "- Take a screenshot of moving **into or out** of your `homework9` brach, call it `hw9_branch`.\n",
    "- Take a screenshot of calling `ls` in your `homework9` branch, it should only contain items relevent to homework 9, call it `hw9_ls`.\n",
    "- Take a screenshot of adding this assignment to your local `homework9` branch, call it `hw9_add`.\n",
    "- Take a screenshot of committing this assignment to your local `homework9` branch, call it `hw9_commit`.\n",
    "- Take a screenshot of pushing this assignment to your remote `homework9` branch, call it `hw9_push`. \n",
    "\n",
    "6) Include these screenshots in your `homework9` branch. Upload your `homework9` branch to Gradescope!"
   ]
  }
 ],
 "metadata": {
  "kernelspec": {
   "display_name": "Python 3 (ipykernel)",
   "language": "python",
   "name": "python3"
  },
  "language_info": {
   "codemirror_mode": {
    "name": "ipython",
    "version": 3
   },
   "file_extension": ".py",
   "mimetype": "text/x-python",
   "name": "python",
   "nbconvert_exporter": "python",
   "pygments_lexer": "ipython3",
   "version": "3.12.4"
  }
 },
 "nbformat": 4,
 "nbformat_minor": 5
}
