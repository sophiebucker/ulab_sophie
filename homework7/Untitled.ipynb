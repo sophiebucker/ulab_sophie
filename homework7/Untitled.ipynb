{
 "cells": [
  {
   "cell_type": "code",
   "execution_count": null,
   "id": "3faf8ea8-64fc-4b2a-baf0-42a1cc616cc5",
   "metadata": {},
   "outputs": [],
   "source": [
    "# 1 you'd import the module lava.py into the notebook chair.ipynb by moving it into the branch and then import it\n",
    "# 2 "
   ]
  }
 ],
 "metadata": {
  "kernelspec": {
   "display_name": "Python 3 (ipykernel)",
   "language": "python",
   "name": "python3"
  },
  "language_info": {
   "codemirror_mode": {
    "name": "ipython",
    "version": 3
   },
   "file_extension": ".py",
   "mimetype": "text/x-python",
   "name": "python",
   "nbconvert_exporter": "python",
   "pygments_lexer": "ipython3",
   "version": "3.12.4"
  }
 },
 "nbformat": 4,
 "nbformat_minor": 5
}
